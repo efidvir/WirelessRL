{
  "nbformat": 4,
  "nbformat_minor": 0,
  "metadata": {
    "colab": {
      "name": "transmit agent.ipynb",
      "provenance": []
    },
    "kernelspec": {
      "name": "python3",
      "display_name": "Python 3"
    },
    "language_info": {
      "name": "python"
    }
  },
  "cells": [
    {
      "cell_type": "code",
      "source": [
        "!pip install \"gym>=0.21.0\"\n",
        "!pip install tf-agents\n"
      ],
      "metadata": {
        "colab": {
          "base_uri": "https://localhost:8080/"
        },
        "id": "XxIWGQ-D_mLm",
        "outputId": "10b7ecf1-d433-4d17-9b22-b4d10d405b10"
      },
      "execution_count": 1,
      "outputs": [
        {
          "output_type": "stream",
          "name": "stdout",
          "text": [
            "Requirement already satisfied: gym>=0.21.0 in /usr/local/lib/python3.7/dist-packages (0.21.0)\n",
            "Requirement already satisfied: importlib-metadata>=4.8.1 in /usr/local/lib/python3.7/dist-packages (from gym>=0.21.0) (4.8.2)\n",
            "Requirement already satisfied: numpy>=1.18.0 in /usr/local/lib/python3.7/dist-packages (from gym>=0.21.0) (1.19.5)\n",
            "Requirement already satisfied: cloudpickle>=1.2.0 in /usr/local/lib/python3.7/dist-packages (from gym>=0.21.0) (1.3.0)\n",
            "Requirement already satisfied: typing-extensions>=3.6.4 in /usr/local/lib/python3.7/dist-packages (from importlib-metadata>=4.8.1->gym>=0.21.0) (3.10.0.2)\n",
            "Requirement already satisfied: zipp>=0.5 in /usr/local/lib/python3.7/dist-packages (from importlib-metadata>=4.8.1->gym>=0.21.0) (3.6.0)\n",
            "Requirement already satisfied: tf-agents in /usr/local/lib/python3.7/dist-packages (0.11.0)\n",
            "Requirement already satisfied: numpy>=1.13.3 in /usr/local/lib/python3.7/dist-packages (from tf-agents) (1.19.5)\n",
            "Requirement already satisfied: cloudpickle>=1.3 in /usr/local/lib/python3.7/dist-packages (from tf-agents) (1.3.0)\n",
            "Requirement already satisfied: absl-py>=0.6.1 in /usr/local/lib/python3.7/dist-packages (from tf-agents) (0.12.0)\n",
            "Requirement already satisfied: protobuf>=3.11.3 in /usr/local/lib/python3.7/dist-packages (from tf-agents) (3.17.3)\n",
            "Requirement already satisfied: pillow in /usr/local/lib/python3.7/dist-packages (from tf-agents) (7.1.2)\n",
            "Requirement already satisfied: wrapt>=1.11.1 in /usr/local/lib/python3.7/dist-packages (from tf-agents) (1.13.3)\n",
            "Requirement already satisfied: gin-config>=0.4.0 in /usr/local/lib/python3.7/dist-packages (from tf-agents) (0.5.0)\n",
            "Requirement already satisfied: six>=1.10.0 in /usr/local/lib/python3.7/dist-packages (from tf-agents) (1.15.0)\n",
            "Requirement already satisfied: typing-extensions>=3.7.4.3 in /usr/local/lib/python3.7/dist-packages (from tf-agents) (3.10.0.2)\n",
            "Requirement already satisfied: tensorflow-probability>=0.14.1 in /usr/local/lib/python3.7/dist-packages (from tf-agents) (0.15.0)\n",
            "Requirement already satisfied: gym>=0.17.0 in /usr/local/lib/python3.7/dist-packages (from tf-agents) (0.21.0)\n",
            "Requirement already satisfied: importlib-metadata>=4.8.1 in /usr/local/lib/python3.7/dist-packages (from gym>=0.17.0->tf-agents) (4.8.2)\n",
            "Requirement already satisfied: zipp>=0.5 in /usr/local/lib/python3.7/dist-packages (from importlib-metadata>=4.8.1->gym>=0.17.0->tf-agents) (3.6.0)\n",
            "Requirement already satisfied: dm-tree in /usr/local/lib/python3.7/dist-packages (from tensorflow-probability>=0.14.1->tf-agents) (0.1.6)\n",
            "Requirement already satisfied: decorator in /usr/local/lib/python3.7/dist-packages (from tensorflow-probability>=0.14.1->tf-agents) (4.4.2)\n",
            "Requirement already satisfied: gast>=0.3.2 in /usr/local/lib/python3.7/dist-packages (from tensorflow-probability>=0.14.1->tf-agents) (0.4.0)\n"
          ]
        }
      ]
    },
    {
      "cell_type": "code",
      "execution_count": 2,
      "metadata": {
        "id": "OQeEktk1-T3n"
      },
      "outputs": [],
      "source": [
        "\n",
        "from __future__ import absolute_import\n",
        "from __future__ import division\n",
        "from __future__ import print_function\n",
        "from tf_agents.environments import py_environment\n",
        "from tf_agents.environments import tf_environment\n",
        "from tf_agents.environments import tf_py_environment\n",
        "from tf_agents.environments import utils\n",
        "from tf_agents.specs import array_spec\n",
        "from tf_agents.environments import wrappers\n",
        "from tf_agents.environments import suite_gym\n",
        "from tf_agents.trajectories import time_step as ts\n",
        "import os\n",
        "import copy\n",
        "import sys      \n",
        "import time\n",
        "\n",
        "import threading\n",
        "from datetime import datetime, timedelta\n",
        "\n",
        "import numpy as np\n",
        "import matplotlib.pyplot as plt\n",
        "import torch\n",
        "import tensorflow as tf\n",
        "#from gnuradio import gr\n",
        "#import pmt\n",
        "from tensorflow.keras import Model\n",
        "from tensorflow.keras.layers import Layer, Dense, Softmax\n",
        "from tensorflow.keras.layers import Dense\n",
        "\n",
        "from gym import Env\n",
        "from gym.spaces import Discrete, Box\n",
        "\n",
        "\n",
        "#from matplotlib.backends.backend_qt5agg import FigureCanvasQTAgg\n",
        "#from matplotlib.figure import Figure\n",
        "#from PyQt5 import QtCore #conda install pyqt\n",
        "#from PyQt5 import QtWidgets\n",
        "\n",
        "import abc\n",
        "from tf_agents.networks import q_network\n",
        "from tf_agents.agents.dqn import dqn_agent\n",
        "\n",
        "import copy"
      ]
    },
    {
      "cell_type": "code",
      "source": [
        "HISTORY_BUFFER_LEN = 100\n",
        "DEFAULT_WINDOW_SIZE = 3\n",
        "EPISODE_LENGTH = 20\n",
        "NUMBER_OF_EPISODES = 100\n",
        "seed = 1\n"
      ],
      "metadata": {
        "id": "wrtcVeeZAiMj"
      },
      "execution_count": 3,
      "outputs": []
    },
    {
      "cell_type": "code",
      "source": [
        "gpus = tf.config.experimental.list_physical_devices(\"GPU\")\n",
        "print('Number of GPUs available :', len(gpus))\n",
        "num_GPU = 1        \n",
        "if num_GPU < len(gpus):\n",
        "  tf.config.experimental.set_visible_devices(gpus[num_GPU], 'GPU')\n",
        "  tf.config.experimental.set_memory_growth(gpus[num_GPU], True)\n",
        "  print('Only GPU number', num_GPU, 'used')\n",
        "\n",
        "tf.random.set_seed(seed)"
      ],
      "metadata": {
        "colab": {
          "base_uri": "https://localhost:8080/"
        },
        "id": "yKes7gqkAp_b",
        "outputId": "6c146646-cb05-4f05-b38b-52853aa9398a"
      },
      "execution_count": 4,
      "outputs": [
        {
          "output_type": "stream",
          "name": "stdout",
          "text": [
            "Number of GPUs available : 0\n"
          ]
        }
      ]
    },
    {
      "cell_type": "code",
      "source": [
        "    \n",
        "    class transmit_wait():\n",
        "\n",
        "    \tdef __init__(self, sensed = 0 , window_size = DEFAULT_WINDOW_SIZE, history = 0  ):\n",
        "    \t\tself._action_spec = Discrete(11) #transmit or not {0,0.1,...,0.9,1}\n",
        "    \t\tself.initial_state = history \n",
        "    \t\tself._state = history\n",
        "    \t\tself.window_size = window_size\t\n",
        "    \t\tself.episode_length = EPISODE_LENGTH\n",
        "    \t\tself.reward = 0\n",
        "\n",
        "    \tdef reset(self):\n",
        "    \t\tself._state = [self.initial_state , self.sensed , 0]\n",
        "    \t\tself._episode_ended = False\n",
        "    \t\tself.episode_length = EPISODE_LENGTH\n",
        "    \t\tself.reward = 0\n",
        "    \t\treturn (self.reward , self._state , 0)\n",
        "\n",
        "    \tdef step(self, action,transmit_prob , good_reward):\n",
        "    \t\thistory = self._state\n",
        "    \t\t\n",
        "    \t\tif transmit_prob > action:\n",
        "    \t\t\ttransmit = 1\n",
        "    \t\telse:\n",
        "    \t\t\ttransmit = 0  \n",
        "\n",
        "    \t\tif history[-1] == 1 and transmit == 1: #collision\n",
        "    \t\t\tself.reward = self.reward-good_reward\n",
        "    \t\telif history[-1] == 0 and transmit == 1: #clean transmit\n",
        "    \t\t\tself.reward = self.reward+2\n",
        "    \t\telif history[-1] == 1 and transmit == 0: #avoided collision\n",
        "    \t\t\tself.reward = self.reward+2\n",
        "    \t\telif history[-1] == 0 and transmit == 0: #wasted slot\n",
        "    \t\t\tself.reward = self.reward-1\t\n",
        "    \t\treward = self.reward\t#comulative reward\n",
        "    \t\tself.reward = 0\n",
        "    \t\treturn(reward)\n"
      ],
      "metadata": {
        "id": "LnJOvVgjARNb"
      },
      "execution_count": 5,
      "outputs": []
    },
    {
      "cell_type": "code",
      "source": [
        "class DQN_agent():\n",
        "    \tdef __init__(self, learning_rate, gamma, window_size):\n",
        "    \t\tself.nb_actions = 11 #on off\n",
        "    \t\tself.window_size = window_size\n",
        "    \t\tself.gamma = gamma\n",
        "    \t\tself.learning_rate = learning_rate\n",
        "    \t\t\n",
        "    \t\tself.history_length = HISTORY_BUFFER_LEN\n",
        "    \t\tself.history = [[]for i in range(self.history_length)]\n",
        "    \t\tself.history_idx = 0\n",
        "    \t\t\n",
        "    \t\t#Create and initialize the online DQN\n",
        "    \t\tself.DQN_online = tf.keras.models.Sequential([Dense(self.window_size, activation='relu'),Dense(self.window_size/2, activation='relu'), Dense(self.nb_actions, activation='softplus') #Outputs positive values \n",
        "    \t\t])\n",
        "    \t\tself.DQN_online.build(input_shape=(None, self.window_size)) #Build the model to create the weights\n",
        "    \t\t\n",
        "    \t\t#Create and initialize the offline DQN\n",
        "    \t\tself.DQN_offline = tf.keras.models.Sequential([Dense(self.window_size, activation='relu'),Dense(self.window_size/2, activation='relu'), Dense(self.nb_actions, activation='softplus') #Outputs positive values\n",
        "    \t\t])\n",
        "    \t\tself.DQN_offline.build(input_shape=(None, self.window_size)) #Build the model to create the weights\n",
        "    \t\t\n",
        "    \t\tself.copy_parameters() #Copy the weights of the online network to the offline network\n",
        "    \t\t\n",
        "    \t\tself.loss_func = tf.keras.losses.MSE\n",
        "    \t\tself.optimizer = tf.keras.optimizers.Adam(self.learning_rate)\n",
        "        \n",
        "        \n",
        "    \tdef choose_action(self, state, epsilon):\n",
        "    \t\t\"\"\"Implements an epsilon-greedy policy\"\"\"\n",
        "    \t\thistory = state\n",
        "    \t\t# Explore ?\n",
        "    \t\tif np.random.uniform(size=1) < epsilon :\n",
        "    \t\t\taction =  np.random.randint(11) \n",
        "\n",
        "\n",
        "    \t\t#Exploite - Choose the current best action\n",
        "    \t\telse:    \n",
        "    \t\t\tDQN_input = tf.concat(history, axis=0)[tf.newaxis, :] #Create a state vector, which is the DQN input. Shape : [1, 1]\n",
        "    \t\t\toutputs = self.DQN_online(DQN_input).numpy() #Get the predicted Q values corresponding to the 2 actions\n",
        "    \t\t\taction = np.argmax(outputs) #Take the action that has the highest predicted Q value (0, 1)\n",
        "    \t\treturn action\n",
        "    \n",
        "    \tdef learn(self, batch_size):\n",
        "    \t\t\"\"\"Sample experiences from the history and performs SGD\"\"\"\n",
        "    \t\t\n",
        "    \t\t# Samples random experiences from the history\n",
        "    \t\tidx = np.random.choice(range(self.history_length), batch_size, replace=False) # Create random indexes \n",
        "    \t\trdm_exp =  [self.history[i] for i in idx] # Take experiences corresponding to the random indexes\n",
        "    \t\t\n",
        "    \t\t\n",
        "    \t\t# Create 4 batches : states_vec, actions, rewards, new states_vec\n",
        "    \t\tstates_vec = np.array([rdm_exp[i][0] for i in range(batch_size)]) # Shape : [Bs, 2*self.nb_ch]\n",
        "    \t\tactions = np.array([rdm_exp[i][1] for i in range(batch_size)]) # Shape : [BS]\n",
        "    \t\trewards = np.array([rdm_exp[i][2] for i in range(batch_size)]) # Shape : [BS]\n",
        "    \t\tn_states_vec = np.array([rdm_exp[i][3] for i in range(batch_size)]) # Shape : [Bs, 2*self.nb_ch]\n",
        "    \t\t\n",
        "    \t\t#Compute the best q_value for the new states\n",
        "    \t\tmax_n_q_values = tf.reduce_max(self.DQN_offline(n_states_vec), axis=1).numpy()\n",
        "\n",
        "    \t\twith tf.GradientTape() as tape:\n",
        "    \t\t\t#Forward pass through the online network to predict the q_values\n",
        "    \t\t\tpred_q_values = self.DQN_online(states_vec)\n",
        "    \t\t\t\n",
        "    \t\t\t# Compute targets\n",
        "    \t\t\ttargets = pred_q_values.numpy()\n",
        "    \t\t\ttargets[np.arange(targets.shape[0]), actions]= rewards +   self.gamma * max_n_q_values\n",
        "    \t\t\t\n",
        "    \t\t\t# Evaluate the loss\n",
        "    \t\t\tself.loss = self.loss_func(pred_q_values, targets)\n",
        "        \n",
        "    \t\t# Compute gradients and perform the gradient descent\n",
        "    \t\tgradients = tape.gradient(self.loss, self.DQN_online.trainable_weights)\n",
        "    \t\tself.optimizer.apply_gradients(zip(gradients, self.DQN_online.trainable_weights))  \n",
        "    \n",
        "    \tdef insert_history(self, state, action, reward, n_state):\n",
        "    \t\t\"\"\"Insert experience in history\"\"\"\n",
        "        \n",
        "    \t\t#sensed_ch, curr_ch, end = state\n",
        "    \t\thistory = state\n",
        "    \t\tstate_vec = np.array(history)# Create the state vector for the state\n",
        "        \n",
        "    \t\tn_history = n_state\n",
        "    \t\tn_state_vec = np.array(n_history) # Create the state vector for the new state\n",
        "\n",
        "    \t\tself.history[self.history_idx] = [state_vec, action, reward, n_state_vec] # Insert everything in the history\n",
        "        \n",
        "    \t\tself.history_idx = (self.history_idx+1)%self.history_length # Move the history_idx by one\n",
        "    \n",
        "    \tdef copy_parameters(self):\n",
        "    \t\t\"\"\"Copy the parameters of the online network to the offline network\"\"\"\n",
        "\n",
        "    \t\tweights = self.DQN_online.get_weights()\n",
        "    \t\tself.DQN_offline.set_weights(weights)\t\t\t"
      ],
      "metadata": {
        "id": "3_d-Opb3AZId"
      },
      "execution_count": 6,
      "outputs": []
    },
    {
      "cell_type": "code",
      "source": [
        "window_size = DEFAULT_WINDOW_SIZE\n",
        "gamma = 0.2\n",
        "learning_rate = 0.075\n",
        "epsilon = 0.2\n",
        "\n",
        "\n",
        "losses1 = []\n",
        "losses2 = []\n",
        "rewards1 = []\n",
        "rewards2 = []\n",
        "for x in range(0,1):\n",
        "  good_reward = 6\n",
        "  loss1 = []\n",
        "  loss2 = []\n",
        "  reward_coll1=[]\n",
        "  reward_coll2=[]\n",
        "  window_size = 4\n",
        "  \"Main code\"\n",
        "  #an agent cant hear itself when he is transmitting\n",
        "  channel_agent1 = np.zeros(window_size)\n",
        "  channel_agent2 = np.zeros(window_size)\n",
        "\n",
        "  environment1 = transmit_wait(0,window_size, channel_agent1)\n",
        "  environment2 = transmit_wait(0,window_size, channel_agent2)  \n",
        "\n",
        "  #Round 1: agent draw actions without prior knowladge \n",
        "  agent1 = DQN_agent((learning_rate), (gamma), window_size) #init agent spaces\n",
        "  agent2 = DQN_agent((learning_rate), (gamma), window_size) #init agent spaces\n",
        "\n",
        "  prv_state1 = channel_agent1\n",
        "  prv_state2 = channel_agent2\n",
        "\n",
        "  #Both take a random action\n",
        "  prv_action1 = agent1.choose_action(channel_agent1, 1)\n",
        "  prv_transmit_prob1  = np.random.randint(11)\n",
        "  if prv_action1 > prv_transmit_prob1:\n",
        "    channel_agent2 = np.append(channel_agent2,1)\n",
        "  else:\n",
        "    channel_agent2 = np.append(channel_agent2,0)\n",
        "  channel_agent2 = np.delete(channel_agent2,0)\n",
        "\n",
        "  prv_transmit_prob2  = np.random.randint(11)\n",
        "  prv_action2 = agent2.choose_action(channel_agent2, 1) \n",
        "  if prv_action2 > prv_transmit_prob2:\n",
        "    channel_agent1 = np.append(channel_agent1,1)\n",
        "  else:\n",
        "    channel_agent1 = np.append(channel_agent1,0)\n",
        "  channel_agent1 = np.delete(channel_agent1,0)\n",
        "\n",
        "  #new state\n",
        "  environment1._state = channel_agent1\n",
        "  environment2._state = channel_agent2\n",
        "\n",
        "\n",
        "  print('initial step:')\n",
        "  print('agent 1: ', environment1._state)\n",
        "  print('agent 2: ', environment2._state)\n",
        "\n",
        "  #Fill Replay buffer - take HISTORY_BUFFER_LEN time steps\n",
        "  for i in range(0,HISTORY_BUFFER_LEN):\n",
        "    \n",
        "    transmit_prob1  = np.random.randint(11)\n",
        "    transmit_prob2  = np.random.randint(11)\n",
        "    \n",
        "    #Change states\n",
        "    #Both take random actions (epsilon = 1)\n",
        "    action1 = agent1.choose_action(environment1._state, 1)\n",
        "    transmit_prob1  = np.random.randint(11)\n",
        "    if action1 > transmit_prob1:\n",
        "      environment2._state = np.append(environment2._state, 1)\n",
        "    else:\n",
        "      environment2._state  = np.append(environment2._state, 0)\n",
        "    environment2._state = np.delete(environment2._state, 0)\n",
        "\n",
        "    transmit_prob2  = np.random.randint(11)\n",
        "    action2 = agent2.choose_action(environment2._state, 1) \n",
        "    if action2 > transmit_prob2:\n",
        "      environment1._state = np.append(environment1._state, 1)\n",
        "    else:\n",
        "      environment1._state  = np.append(environment1._state, 0)\n",
        "    environment1._state = np.delete(environment1._state, 0)\n",
        "\n",
        "    reward1 = environment1.step(prv_action1, prv_transmit_prob1 , good_reward)\n",
        "    reward2 = environment2.step(prv_action1, prv_transmit_prob2 , good_reward)\n",
        "\n",
        "    agent1.insert_history(prv_state1, prv_action1, reward1, environment1._state)\n",
        "    agent2.insert_history(prv_state2, prv_action2, reward2, environment2._state)\n",
        "    \n",
        "    #save PREVIOUS state and action\n",
        "    prv_action1 = action1\n",
        "    prv_action2 = action2\n",
        "    prv_state1 = environment1._state\n",
        "    prv_state2 = environment2._state \n",
        "    prv_transmit_prob1 = transmit_prob1\n",
        "    prv_transmit_prob2 = transmit_prob2\n",
        "\n",
        "\n",
        "  agent1.learn(int(HISTORY_BUFFER_LEN/2)) # Each time we store a new history, we perform a training on random data\n",
        "  agent1.copy_parameters() #lower update frequency?\n",
        "\n",
        "\n",
        "  agent2.learn(int(HISTORY_BUFFER_LEN/2)) # Each time we store a new history, we perform a training on random data\n",
        "  agent2.copy_parameters() #lower update frequency?\n",
        "\n",
        "  for episodes in range(0,NUMBER_OF_EPISODES):\n",
        "    #Fill Replay buffer - take HISTORY_BUFFER_LEN time steps\n",
        "    for i in range(0,HISTORY_BUFFER_LEN):\n",
        "      \n",
        "      epsilon = 0.999*epsilon\n",
        "      transmit_prob1  = np.random.randint(11)\n",
        "      transmit_prob2  = np.random.randint(11)\n",
        "      \n",
        "      #Change states\n",
        "      #Both take epsilon random actions\n",
        "      action1 = agent1.choose_action(environment1._state, epsilon)\n",
        "      transmit_prob1  = np.random.randint(11)\n",
        "      if action1 > transmit_prob1:\n",
        "        environment2._state = np.append(environment2._state, 1)\n",
        "      else:\n",
        "        environment2._state  = np.append(environment2._state, 0)\n",
        "      environment2._state = np.delete(environment2._state, 0)\n",
        "\n",
        "      transmit_prob2  = np.random.randint(11)\n",
        "      action2 = agent2.choose_action(environment2._state, epsilon) \n",
        "      if action2 > transmit_prob2:\n",
        "        environment1._state = np.append(environment1._state, 1)\n",
        "      else:\n",
        "        environment1._state  = np.append(environment1._state, 0)\n",
        "      environment1._state = np.delete(environment1._state, 0)\n",
        "\n",
        "      reward1 = environment1.step(prv_action1, prv_transmit_prob1 , good_reward)\n",
        "      reward_coll1.append(reward1)\n",
        "      reward2 = environment2.step(prv_action1, prv_transmit_prob2 , good_reward)\n",
        "      reward_coll2.append(reward2)\n",
        "      agent1.insert_history(prv_state1, prv_action1, reward1, environment1._state)\n",
        "      agent2.insert_history(prv_state2, prv_action2, reward2, environment2._state)\n",
        "      \n",
        "      #save PREVIOUS state and action\n",
        "      prv_action1 = action1\n",
        "      prv_action2 = action2\n",
        "      prv_state1 = environment1._state\n",
        "      prv_state2 = environment2._state \n",
        "      prv_transmit_prob1 = transmit_prob1\n",
        "      prv_transmit_prob2 = transmit_prob2\n",
        "    agent1.learn(int(HISTORY_BUFFER_LEN/2)) # Each time we store a new history, we perform a training on random data\n",
        "    agent2.learn(int(HISTORY_BUFFER_LEN/2)) # Each time we store a new history, we perform a training on random data\n",
        "    if episodes%10 == 0:\n",
        "      agent1.copy_parameters()\n",
        "      agent2.copy_parameters()\n",
        "      print('episodes: ', episodes)\n",
        "    loss1.append(tf.reduce_mean(agent1.loss).numpy()) #Save the losses for future visualization\n",
        "    loss2.append(tf.reduce_mean(agent2.loss).numpy()) #Save the losses for future visualization\n",
        "  \n",
        "  losses1.append(loss1)\n",
        "  losses2.append(loss2)\n",
        "  rewards1.append(reward_coll1)\n",
        "  rewards2.append(reward_coll2)\n",
        "  \n",
        "  print(losses1)\n",
        "  print('final step:')\n",
        "  print('agent 1: ', environment1._state)\n",
        "  print('agent 2: ', environment2._state)\n",
        "  print('randomness level:' ,epsilon)\n",
        "\n",
        "  plt.semilogy(np.arange(len(loss1)), loss1)\n",
        "  plt.show()\n",
        "  plt.semilogy(np.arange(len(reward_coll1)), reward_coll1)\n",
        "  plt.show()\n",
        "  counts, bins = np.histogram(reward_coll1)\n",
        "  plt.hist(bins[:-1], bins, weights=counts)\n",
        "  plt.show()\n",
        "  plt.semilogy(np.arange(len(loss2)), loss2)\n",
        "  plt.show()\n",
        "  plt.semilogy(np.arange(len(reward_coll2)), reward_coll2)\n",
        "  plt.show()\n",
        "  counts, bins = np.histogram(reward_coll2)\n",
        "  plt.hist(bins[:-1], bins, weights=counts)\n",
        "  plt.show()\n",
        "\n",
        "colors = ['b' ,'r','g', 'y','c', 'm' ,'k','indigo','orange','pink']\n",
        "for j in range(0,len(losses1)):\n",
        "  plt.semilogy(np.arange(len(losses1[j])), losses1[j], colors[j])\n",
        "plt.legend()\n",
        "plt.show()\n",
        "\n",
        "for j in range(0,len(losses2)):\n",
        "  plt.semilogy(np.arange(len(losses2[j])), losses2[j], colors[j])\n",
        "plt.legend()\n",
        "plt.show()\n"
      ],
      "metadata": {
        "colab": {
          "base_uri": "https://localhost:8080/",
          "height": 1000
        },
        "id": "Dzya1hHzBT_9",
        "outputId": "e892ad54-9bdc-4dd8-d0d3-f73f006783fe"
      },
      "execution_count": 7,
      "outputs": [
        {
          "output_type": "stream",
          "name": "stdout",
          "text": [
            "initial step:\n",
            "agent 1:  [0. 0. 0. 0.]\n",
            "agent 2:  [0. 0. 0. 0.]\n",
            "episodes:  0\n",
            "episodes:  10\n",
            "episodes:  20\n",
            "episodes:  30\n",
            "episodes:  40\n",
            "episodes:  50\n",
            "episodes:  60\n",
            "episodes:  70\n",
            "episodes:  80\n",
            "episodes:  90\n",
            "[[7.959414, 7.6087236, 7.234973, 7.347927, 7.971117, 7.271129, 6.6890564, 6.8451595, 6.164376, 6.2949977, 3.8887537, 3.6339843, 3.1099863, 7.62924, 7.5598884, 3.5348508, 6.126379, 7.2955766, 7.0661225, 5.295374, 4.4337068, 5.458728, 4.0431232, 7.4244065, 5.703873, 7.2325163, 2.9307368, 4.3111477, 6.2416363, 2.238542, 0.71737456, 2.7940054, 5.563884, 5.9790235, 7.3650465, 6.394436, 6.9483557, 2.5170846, 7.3634715, 6.117146, 5.978682, 1.5477817, 7.363949, 4.8711286, 6.9483056, 7.3637996, 3.2094522, 3.9018207, 7.086751, 1.8247272, 7.363691, 7.3637586, 0.7169448, 2.2401452, 2.5170908, 6.5328465, 7.363719, 4.871125, 7.3637047, 7.3637037, 6.5328307, 5.2865505, 5.148081, 5.286549, 3.0709817, 4.317237, 4.317238, 5.148075, 6.671298, 7.3636937, 2.794036, 1.4093089, 3.4863987, 2.5170908, 4.871137, 7.0867376, 6.1174083, 7.3636894, 2.1016724, 2.6555636, 7.3636894, 6.1174073, 7.0867333, 1.1323633, 7.363687, 4.040296, 3.9018204, 2.1016722, 5.5635023, 4.594185, 7.0867286, 3.070982, 5.701975, 1.2708364, 2.378618, 6.3943496, 7.3636827, 7.3636847, 0.9938906, 4.455711]]\n",
            "final step:\n",
            "agent 1:  [0. 1. 0. 1.]\n",
            "agent 2:  [0. 1. 0. 0.]\n",
            "randomness level: 9.034669195409592e-06\n"
          ]
        },
        {
          "output_type": "display_data",
          "data": {
            "image/png": "[encoded data removed]",
            "text/plain": [
              "<Figure size 432x288 with 1 Axes>"
            ]
          },
          "metadata": {
            "needs_background": "light"
          }
        },
        {
          "output_type": "display_data",
          "data": {
            "image/png": "[encoded data removed]",
            "text/plain": [
              "<Figure size 432x288 with 1 Axes>"
            ]
          },
          "metadata": {
            "needs_background": "light"
          }
        },
        {
          "output_type": "display_data",
          "data": {
            "image/png": "[encoded data removed]",
            "text/plain": [
              "<Figure size 432x288 with 1 Axes>"
            ]
          },
          "metadata": {
            "needs_background": "light"
          }
        },
        {
          "output_type": "display_data",
          "data": {
            "image/png": "[encoded data removed]",
            "text/plain": [
              "<Figure size 432x288 with 1 Axes>"
            ]
          },
          "metadata": {
            "needs_background": "light"
          }
        },
        {
          "output_type": "display_data",
          "data": {
            "image/png": "[encoded data removed]",
            "text/plain": [
              "<Figure size 432x288 with 1 Axes>"
            ]
          },
          "metadata": {
            "needs_background": "light"
          }
        },
        {
          "output_type": "display_data",
          "data": {
            "image/png": "[encoded data removed]",
            "text/plain": [
              "<Figure size 432x288 with 1 Axes>"
            ]
          },
          "metadata": {
            "needs_background": "light"
          }
        },
        {
          "output_type": "stream",
          "name": "stderr",
          "text": [
            "No handles with labels found to put in legend.\n"
          ]
        },
        {
          "output_type": "display_data",
          "data": {
            "image/png": "[encoded data removed]",
            "text/plain": [
              "<Figure size 432x288 with 1 Axes>"
            ]
          },
          "metadata": {
            "needs_background": "light"
          }
        },
        {
          "output_type": "stream",
          "name": "stderr",
          "text": [
            "No handles with labels found to put in legend.\n"
          ]
        },
        {
          "output_type": "display_data",
          "data": {
            "image/png": "[encoded data removed]",
            "text/plain": [
              "<Figure size 432x288 with 1 Axes>"
            ]
          },
          "metadata": {
            "needs_background": "light"
          }
        }
      ]
    },
    {
      "cell_type": "code",
      "source": [
        "\n",
        "\n",
        "plt.hist([rewards1[0],rewards1[1],rewards1[2],rewards1[3],rewards1[4],rewards1[5],rewards1[6],rewards1[7]],10,label=['0', '0.1','0.2', '0.3','0.4', '0.5','0.6', '0.7','0.8', '0.9','1'])\n",
        "plt.legend()\n",
        "plt.show()\n",
        "\n",
        "plt.hist([rewards2[0],rewards2[1],rewards2[2],rewards2[3],rewards2[4],rewards2[5],rewards2[6],rewards2[7]],10,label=['0', '0.1','0.2', '0.3','0.4', '0.5','0.6', '0.7','0.8', '0.9','1'])\n",
        "plt.legend()\n",
        "plt.show()"
      ],
      "metadata": {
        "colab": {
          "base_uri": "https://localhost:8080/",
          "height": 236
        },
        "id": "gTOCjWK0Yia6",
        "outputId": "e84a9388-cefa-439f-eea0-f5ea76247ab4"
      },
      "execution_count": 9,
      "outputs": [
        {
          "output_type": "error",
          "ename": "IndexError",
          "evalue": "ignored",
          "traceback": [
            "\u001b[0;31m---------------------------------------------------------------------------\u001b[0m",
            "\u001b[0;31mIndexError\u001b[0m                                Traceback (most recent call last)",
            "\u001b[0;32m<ipython-input-9-eea3e95b9baa>\u001b[0m in \u001b[0;36m<module>\u001b[0;34m()\u001b[0m\n\u001b[1;32m      1\u001b[0m \u001b[0;34m\u001b[0m\u001b[0m\n\u001b[1;32m      2\u001b[0m \u001b[0;34m\u001b[0m\u001b[0m\n\u001b[0;32m----> 3\u001b[0;31m \u001b[0mplt\u001b[0m\u001b[0;34m.\u001b[0m\u001b[0mhist\u001b[0m\u001b[0;34m(\u001b[0m\u001b[0;34m[\u001b[0m\u001b[0mrewards1\u001b[0m\u001b[0;34m[\u001b[0m\u001b[0;36m0\u001b[0m\u001b[0;34m]\u001b[0m\u001b[0;34m,\u001b[0m\u001b[0mrewards1\u001b[0m\u001b[0;34m[\u001b[0m\u001b[0;36m1\u001b[0m\u001b[0;34m]\u001b[0m\u001b[0;34m,\u001b[0m\u001b[0mrewards1\u001b[0m\u001b[0;34m[\u001b[0m\u001b[0;36m2\u001b[0m\u001b[0;34m]\u001b[0m\u001b[0;34m,\u001b[0m\u001b[0mrewards1\u001b[0m\u001b[0;34m[\u001b[0m\u001b[0;36m3\u001b[0m\u001b[0;34m]\u001b[0m\u001b[0;34m,\u001b[0m\u001b[0mrewards1\u001b[0m\u001b[0;34m[\u001b[0m\u001b[0;36m4\u001b[0m\u001b[0;34m]\u001b[0m\u001b[0;34m,\u001b[0m\u001b[0mrewards1\u001b[0m\u001b[0;34m[\u001b[0m\u001b[0;36m5\u001b[0m\u001b[0;34m]\u001b[0m\u001b[0;34m,\u001b[0m\u001b[0mrewards1\u001b[0m\u001b[0;34m[\u001b[0m\u001b[0;36m6\u001b[0m\u001b[0;34m]\u001b[0m\u001b[0;34m,\u001b[0m\u001b[0mrewards1\u001b[0m\u001b[0;34m[\u001b[0m\u001b[0;36m7\u001b[0m\u001b[0;34m]\u001b[0m\u001b[0;34m]\u001b[0m\u001b[0;34m,\u001b[0m\u001b[0;36m10\u001b[0m\u001b[0;34m,\u001b[0m\u001b[0mlabel\u001b[0m\u001b[0;34m=\u001b[0m\u001b[0;34m[\u001b[0m\u001b[0;34m'0'\u001b[0m\u001b[0;34m,\u001b[0m \u001b[0;34m'0.1'\u001b[0m\u001b[0;34m,\u001b[0m\u001b[0;34m'0.2'\u001b[0m\u001b[0;34m,\u001b[0m \u001b[0;34m'0.3'\u001b[0m\u001b[0;34m,\u001b[0m\u001b[0;34m'0.4'\u001b[0m\u001b[0;34m,\u001b[0m \u001b[0;34m'0.5'\u001b[0m\u001b[0;34m,\u001b[0m\u001b[0;34m'0.6'\u001b[0m\u001b[0;34m,\u001b[0m \u001b[0;34m'0.7'\u001b[0m\u001b[0;34m,\u001b[0m\u001b[0;34m'0.8'\u001b[0m\u001b[0;34m,\u001b[0m \u001b[0;34m'0.9'\u001b[0m\u001b[0;34m,\u001b[0m\u001b[0;34m'1'\u001b[0m\u001b[0;34m]\u001b[0m\u001b[0;34m)\u001b[0m\u001b[0;34m\u001b[0m\u001b[0;34m\u001b[0m\u001b[0m\n\u001b[0m\u001b[1;32m      4\u001b[0m \u001b[0mplt\u001b[0m\u001b[0;34m.\u001b[0m\u001b[0mlegend\u001b[0m\u001b[0;34m(\u001b[0m\u001b[0;34m)\u001b[0m\u001b[0;34m\u001b[0m\u001b[0;34m\u001b[0m\u001b[0m\n\u001b[1;32m      5\u001b[0m \u001b[0mplt\u001b[0m\u001b[0;34m.\u001b[0m\u001b[0mshow\u001b[0m\u001b[0;34m(\u001b[0m\u001b[0;34m)\u001b[0m\u001b[0;34m\u001b[0m\u001b[0;34m\u001b[0m\u001b[0m\n",
            "\u001b[0;31mIndexError\u001b[0m: list index out of range"
          ]
        }
      ]
    },
    {
      "cell_type": "code",
      "source": [
        "'Run more slots for statistical collection'\n",
        "agent1slots = 0\n",
        "agent2slots = 0\n",
        "collisions = 0\n",
        "agent1clean = 0\n",
        "agent2clean = 0\n",
        "wasted = 0\n",
        "slots = 0\n",
        "for runs in range(0,1000):\n",
        "  #Fill Replay buffer - take HISTORY_BUFFER_LEN time steps\n",
        "  for i in range(0,HISTORY_BUFFER_LEN):\n",
        "    \n",
        "    epsilon = 0.99*epsilon\n",
        "    transmit_prob1  = np.random.randint(11)\n",
        "    transmit_prob2  = np.random.randint(11)\n",
        "\n",
        "    #Change states\n",
        "    #Both take  random actions\n",
        "    action1 = agent1.choose_action(environment1._state, 1)\n",
        "    transmit_prob1  = np.random.randint(11)\n",
        "    if action1 > transmit_prob1:\n",
        "      environment2._state = np.append(environment2._state,1)\n",
        "      agent1slots += 1\n",
        "      agent1transmit = 1\n",
        "    else:\n",
        "      environment2._state = np.append(environment2._state,0)\n",
        "      agent1transmit = 0\n",
        "    environment2._state = np.delete(environment2._state,0)\n",
        "    \n",
        "\n",
        "    transmit_prob2  = np.random.randint(11)\n",
        "    action2 = agent2.choose_action(environment2._state, 1) \n",
        "    if action2 > transmit_prob2:\n",
        "      environment1._state = np.append(environment1._state,1)\n",
        "      agent2slots += 1\n",
        "      agent2transmit = 1\n",
        "    else:\n",
        "      environment1._state = np.append(environment1._state,0)\n",
        "      agent2transmit = 0\n",
        "    environment1._state = np.delete(environment1._state,0)\n",
        "\n",
        "    reward1 = environment1.step(prv_action1, prv_transmit_prob1 , good_reward)\n",
        "    reward2 = environment2.step(prv_action1, prv_transmit_prob2 , good_reward)\n",
        "\n",
        "    agent1.insert_history(prv_state1, prv_action1, reward1, environment1._state)\n",
        "    agent2.insert_history(prv_state2, prv_action2, reward2, environment2._state)\n",
        "    \n",
        "    if agent1transmit == 1 and agent2transmit == 1:\n",
        "      collisions += 1\n",
        "    if agent1transmit == 0 and agent2transmit == 1:\n",
        "      agent2clean += 1\n",
        "    if agent1transmit == 1 and agent2transmit == 0:\n",
        "      agent1clean += 1\n",
        "    if agent1transmit == 0 and agent2transmit == 0:\n",
        "      wasted += 1\n",
        "    #save PREVIOUS state and action\n",
        "    prv_action1 = action1\n",
        "    prv_action2 = action2\n",
        "    prv_state1 = environment1._state\n",
        "    prv_state2 = environment2._state\n",
        "    prv_transmit_prob1 = transmit_prob1\n",
        "    prv_transmit_prob2 = transmit_prob2\n",
        "    slots += 1\n",
        "  agent1.learn(int(HISTORY_BUFFER_LEN/2)) # Each time we store a new history, we perform a training on random data\n",
        "  agent2.learn(int(HISTORY_BUFFER_LEN/2)) # Each time we store a new history, we perform a training on random data\n",
        "  if runs%10 == 0:\n",
        "    agent1.copy_parameters()\n",
        "    agent2.copy_parameters()\n",
        "    print('episode: ', runs)\n",
        "\n",
        "print('total time slots: ', slots)\n",
        "print('agent 1 all transmit slots:', agent1slots)\n",
        "print('agent 2 all transmit slots:', agent2slots)\n",
        "print('Collisions: ', collisions)\n",
        "print('agent 1 clean slots: ', agent1clean)\n",
        "print('agent 2 clean slots: ', agent2clean)\n",
        "print('wasted slots: ', wasted)"
      ],
      "metadata": {
        "id": "gYzPOmr1WEN5",
        "colab": {
          "base_uri": "https://localhost:8080/"
        },
        "outputId": "bc2eda6e-4ce3-42b1-97fa-bbe7ba90e556"
      },
      "execution_count": 10,
      "outputs": [
        {
          "output_type": "stream",
          "name": "stdout",
          "text": [
            "episode:  0\n",
            "episode:  10\n",
            "episode:  20\n",
            "episode:  30\n",
            "episode:  40\n",
            "episode:  50\n",
            "episode:  60\n",
            "episode:  70\n",
            "episode:  80\n",
            "episode:  90\n",
            "episode:  100\n",
            "episode:  110\n",
            "episode:  120\n",
            "episode:  130\n",
            "episode:  140\n",
            "episode:  150\n",
            "episode:  160\n",
            "episode:  170\n",
            "episode:  180\n",
            "episode:  190\n",
            "episode:  200\n",
            "episode:  210\n",
            "episode:  220\n",
            "episode:  230\n",
            "episode:  240\n",
            "episode:  250\n",
            "episode:  260\n",
            "episode:  270\n",
            "episode:  280\n",
            "episode:  290\n",
            "episode:  300\n",
            "episode:  310\n",
            "episode:  320\n",
            "episode:  330\n",
            "episode:  340\n",
            "episode:  350\n",
            "episode:  360\n",
            "episode:  370\n",
            "episode:  380\n",
            "episode:  390\n",
            "episode:  400\n",
            "episode:  410\n",
            "episode:  420\n",
            "episode:  430\n",
            "episode:  440\n",
            "episode:  450\n",
            "episode:  460\n",
            "episode:  470\n",
            "episode:  480\n",
            "episode:  490\n",
            "episode:  500\n",
            "episode:  510\n",
            "episode:  520\n",
            "episode:  530\n",
            "episode:  540\n",
            "episode:  550\n",
            "episode:  560\n",
            "episode:  570\n",
            "episode:  580\n",
            "episode:  590\n",
            "episode:  600\n",
            "episode:  610\n",
            "episode:  620\n",
            "episode:  630\n",
            "episode:  640\n",
            "episode:  650\n",
            "episode:  660\n",
            "episode:  670\n",
            "episode:  680\n",
            "episode:  690\n",
            "episode:  700\n",
            "episode:  710\n",
            "episode:  720\n",
            "episode:  730\n",
            "episode:  740\n",
            "episode:  750\n",
            "episode:  760\n",
            "episode:  770\n",
            "episode:  780\n",
            "episode:  790\n",
            "episode:  800\n",
            "episode:  810\n",
            "episode:  820\n",
            "episode:  830\n",
            "episode:  840\n",
            "episode:  850\n",
            "episode:  860\n",
            "episode:  870\n",
            "episode:  880\n",
            "episode:  890\n",
            "episode:  900\n",
            "episode:  910\n",
            "episode:  920\n",
            "episode:  930\n",
            "episode:  940\n",
            "episode:  950\n",
            "episode:  960\n",
            "episode:  970\n",
            "episode:  980\n",
            "episode:  990\n",
            "total time slots:  100000\n",
            "agent 1 all transmit slots: 45428\n",
            "agent 2 all transmit slots: 45301\n",
            "Collisions:  20621\n",
            "agent 1 clean slots:  24807\n",
            "agent 2 clean slots:  24680\n",
            "wasted slots:  29892\n"
          ]
        }
      ]
    },
    {
      "cell_type": "code",
      "source": [
        ""
      ],
      "metadata": {
        "id": "K80zBehTLrus"
      },
      "execution_count": null,
      "outputs": []
    }
  ]
}