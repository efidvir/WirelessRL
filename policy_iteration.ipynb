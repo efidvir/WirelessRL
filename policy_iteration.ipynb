{
  "nbformat": 4,
  "nbformat_minor": 0,
  "metadata": {
    "colab": {
      "name": "policy_iteration.ipynb",
      "provenance": [],
      "collapsed_sections": []
    },
    "kernelspec": {
      "name": "python3",
      "display_name": "Python 3"
    },
    "language_info": {
      "name": "python"
    }
  },
  "cells": [
    {
      "cell_type": "code",
      "source": [
        "!pip install -U pygame"
      ],
      "metadata": {
        "colab": {
          "base_uri": "https://localhost:8080/"
        },
        "id": "EekXfKE5-vxy",
        "outputId": "5ec69093-2a98-4f02-dfa2-11e4274f2222"
      },
      "execution_count": 1,
      "outputs": [
        {
          "output_type": "stream",
          "name": "stdout",
          "text": [
            "Requirement already satisfied: pygame in /usr/local/lib/python3.7/dist-packages (2.1.2)\n"
          ]
        }
      ]
    },
    {
      "cell_type": "code",
      "execution_count": 2,
      "metadata": {
        "colab": {
          "base_uri": "https://localhost:8080/"
        },
        "id": "EXTgVv-t9x3q",
        "outputId": "ead30b40-6074-4330-f5b9-ae32201bcab3"
      },
      "outputs": [
        {
          "output_type": "stream",
          "name": "stdout",
          "text": [
            "pygame 2.1.2 (SDL 2.0.16, Python 3.7.13)\n",
            "Hello from the pygame community. https://www.pygame.org/contribute.html\n"
          ]
        }
      ],
      "source": [
        "import numpy as np\n",
        "import gym\n",
        "from gym import spaces\n",
        "import cv2\n",
        "from google.colab.patches import cv2_imshow\n",
        "from google.colab import output\n",
        "import time \n",
        "import os, sys\n",
        "os.environ[\"SDL_VIDEODRIVER\"] = \"dummy\"\n",
        "import matplotlib.pyplot as plt\n",
        "import networkx as nx\n",
        "from networkx.drawing.nx_agraph import write_dot\n",
        "from networkx.drawing.nx_pydot import write_dot\n",
        "\n",
        "import pygame\n",
        "from sklearn.preprocessing import normalize\n",
        "import graphviz\n",
        "from graphviz import Source\n",
        "#np.set_printoptions(threshold=sys.maxsize)\n",
        "np.set_printoptions(edgeitems=30, linewidth=100000, \n",
        "    formatter=dict(float=lambda x: \"%.3g\" % x))\n"
      ]
    },
    {
      "cell_type": "code",
      "source": [
        "#model\n",
        "MAX_SILENT_TIME = 6\n",
        "SILENT_THRESHOLD = 3\n",
        "BATTERY_SIZE = 6\n",
        "DISCHARGE = 2\n",
        "MINIMAL_CHARGE = 2\n",
        "CHARGE = 1\n",
        "\n",
        "#learning params\n",
        "GAMMA = 0.99\n",
        "P_LOSS = 0.1"
      ],
      "metadata": {
        "id": "VuSxwnsV-9fk"
      },
      "execution_count": 3,
      "outputs": []
    },
    {
      "cell_type": "code",
      "source": [
        "state_time = range(MAX_SILENT_TIME)\n",
        "reward_1 = np.append(np.zeros(SILENT_THRESHOLD-1),-1*np.linspace(0, 4*(MAX_SILENT_TIME  - SILENT_THRESHOLD), MAX_SILENT_TIME  - SILENT_THRESHOLD+1))\n",
        "\n",
        "#plot reward function in use\n",
        "plt.plot(range(len(reward_1)),reward_1 , 'o--' , color = 'blue')\n",
        "plt.xticks(range(MAX_SILENT_TIME))\n",
        "plt.title('Reward function $r_1$')\n",
        "plt.show()\n",
        "print('r_1 array: ' , reward_1)\n",
        "\n",
        "state_energy = range(BATTERY_SIZE)\n",
        "state_space_size = [len(state_energy),len(state_time)]\n",
        "\n",
        "#Screen size of state space value/policy image\n",
        "screen = pygame.display.set_mode((MAX_SILENT_TIME*100, BATTERY_SIZE*100))\n",
        "\n",
        "#init random policy\n",
        "policy = np.random.randint(2, size = (len(state_energy),len(state_time)))\n",
        "state_value = np.zeros(shape = (len(state_energy),len(state_time)))\n",
        "\n",
        "def policy_evaluation():\n",
        "  theta = 0.0001\n",
        "  delta = 0.0\n",
        "  value_change = True\n",
        "  iterations = 0\n",
        "  converged = False\n",
        "  while not converged:\n",
        "    #run value iteration\n",
        "    delta = 0.0\n",
        "    for energy in range(state_value.shape[0]):\n",
        "      for time in range(state_value.shape[1]): \n",
        "        iterations +=1\n",
        "        v = state_value[energy,time]\n",
        "        if energy < MINIMAL_CHARGE: #Not enough charge, can't transmit (charge, increase time)\n",
        "          state_value[energy,time] = reward_1[min(time, MAX_SILENT_TIME-1)] + GAMMA*state_value[energy+CHARGE, min(time+1, MAX_SILENT_TIME-1)] \n",
        "        elif energy> BATTERY_SIZE-DISCHARGE-1: #Transmit and discharge for collision or sucsess, or don't transmit while battery full\n",
        "          if int(policy[energy,time]) == 1:\n",
        "            state_value[energy,time] = ((1-P_LOSS)*(reward_1[0] + GAMMA*state_value[energy-DISCHARGE,0]))+(P_LOSS*(reward_1[time] + GAMMA*state_value[energy-DISCHARGE,min(time+1, MAX_SILENT_TIME-1)]))\n",
        "          else:\n",
        "            state_value[energy,time] = reward_1[min(time+1, MAX_SILENT_TIME-1)] + GAMMA*state_value[energy, min(time+1, MAX_SILENT_TIME-1)]\n",
        "        else: #Transmit and discharge for collision or sucsess, or don't transmit and charge\n",
        "          if int(policy[energy,time]) == 1:\n",
        "            state_value[energy,time] = ((1-P_LOSS)*(reward_1[0] + GAMMA*state_value[energy-DISCHARGE,0]))+(P_LOSS*(reward_1[time] + GAMMA*state_value[energy-DISCHARGE,min(time+1, MAX_SILENT_TIME-1)]))\n",
        "          else:\n",
        "            state_value[energy,time] = reward_1[min(time+1, MAX_SILENT_TIME-1)] + GAMMA*state_value[energy+CHARGE,min(time+1, MAX_SILENT_TIME-1)]\n",
        "        delta = np.max([delta,np.abs(v-state_value[energy,time])])\n",
        "        #print(delta,np.abs(v-state_value[energy,time]),v, state_value[energy,time])\n",
        "        converged = True if delta < theta else False\n",
        "  \n",
        "\n",
        "def policy_improvment():\n",
        "  for energy in range(state_value.shape[0]):\n",
        "    for time in range(state_value.shape[1]):\n",
        "      a = policy[energy,time]\n",
        "      if energy < MINIMAL_CHARGE:\n",
        "        policy[energy,time] = 0\n",
        "      elif energy> BATTERY_SIZE-DISCHARGE-1:\n",
        "        policy[energy,time] = np.argmax([(reward_1[min(time+1, MAX_SILENT_TIME-1)] + GAMMA * state_value[energy,min(time+1, MAX_SILENT_TIME-1)]),((1-P_LOSS)*(reward_1[0] + GAMMA*state_value[energy-DISCHARGE,0])+P_LOSS*(reward_1[time] + GAMMA*state_value[energy-DISCHARGE,min(time+1, MAX_SILENT_TIME-1)]))]) #max(transmit good + transmit bad, wait)\n",
        "      else:\n",
        "        policy[energy,time] = np.argmax([(reward_1[min(time+1, MAX_SILENT_TIME-1)]* + GAMMA * state_value[energy+CHARGE,min(time+1, MAX_SILENT_TIME-1)]),((1-P_LOSS)*(reward_1[0] + GAMMA*state_value[energy-DISCHARGE,0])+P_LOSS*(reward_1[time] + GAMMA*state_value[energy-DISCHARGE,min(time+1, MAX_SILENT_TIME-1)]))]) #max(transmit good + transmit bad, wait)\n",
        "      if a != policy[energy,time]:\n",
        "        policy_stable = False     \n",
        "  if policy_stable:\n",
        "    return policy_stable\n",
        "  else:\n",
        "    policy_evaluation()\n",
        "\n",
        "#evaluate initial policy\n",
        "policy_improvment()\n",
        "\n",
        "print(state_value) \n",
        "print(policy)"
      ],
      "metadata": {
        "colab": {
          "base_uri": "https://localhost:8080/",
          "height": 509
        },
        "id": "s6uq4e7h_EdS",
        "outputId": "39b24db0-7e37-41fe-e7be-56665f73792c"
      },
      "execution_count": 9,
      "outputs": [
        {
          "output_type": "display_data",
          "data": {
            "text/plain": [
              "<Figure size 432x288 with 1 Axes>"
            ],
            "image/png": "[encoded data removed]"
          },
          "metadata": {
            "needs_background": "light"
          }
        },
        {
          "output_type": "stream",
          "name": "stdout",
          "text": [
            "r_1 array:  [0 0 -0 -4 -8 -12]\n",
            "[[-81.5 -89.7 -97.6 -106 -113 -117]\n",
            " [-74 -82.3 -90.6 -98.5 -103 -107]\n",
            " [-70.1 -74.8 -83.1 -91.5 -95.5 -95.5]\n",
            " [-70.1 -70.8 -75.5 -79.9 -84.3 -84.3]\n",
            " [-70.1 -70.8 -71.5 -72.3 -72.7 -73.1]\n",
            " [-68.9 -69.6 -70.3 -71.2 -71.6 -72]]\n",
            "[[0 0 0 0 0 0]\n",
            " [0 0 0 0 0 0]\n",
            " [0 0 0 0 0 0]\n",
            " [0 0 0 0 0 0]\n",
            " [0 0 1 1 1 1]\n",
            " [0 0 1 1 1 1]]\n"
          ]
        }
      ]
    }
  ]
}